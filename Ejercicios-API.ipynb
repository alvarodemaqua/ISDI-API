{
 "cells": [
  {
   "cell_type": "markdown",
   "source": [
    "Vamos a realizar peticiones y transformaciones sobre datos de la siguiente api:\n",
    "\n",
    "https://newcastle.urbanobservatory.ac.uk/api_docs/"
   ],
   "metadata": {
    "collapsed": false
   },
   "id": "a31cd8cf39843be8"
  },
  {
   "cell_type": "markdown",
   "source": [
    "## Ejercicio 1\n",
    "\n",
    "Familiarizarse con la api del Urban Observatory y realizar una petición sencilla"
   ],
   "metadata": {
    "collapsed": false
   },
   "id": "e0b4416850a8fa5b"
  },
  {
   "cell_type": "code",
   "execution_count": 90,
   "id": "initial_id",
   "metadata": {
    "collapsed": true,
    "ExecuteTime": {
     "end_time": "2024-01-06T15:13:45.137471Z",
     "start_time": "2024-01-06T15:13:44.504290700Z"
    }
   },
   "outputs": [],
   "source": []
  },
  {
   "cell_type": "code",
   "execution_count": 90,
   "outputs": [],
   "source": [],
   "metadata": {
    "collapsed": false,
    "ExecuteTime": {
     "end_time": "2024-01-06T15:13:45.333977100Z",
     "start_time": "2024-01-06T15:13:45.141717600Z"
    }
   },
   "id": "c32a89eb25e69ebb"
  },
  {
   "cell_type": "code",
   "execution_count": 90,
   "outputs": [],
   "source": [],
   "metadata": {
    "collapsed": false,
    "ExecuteTime": {
     "end_time": "2024-01-06T15:13:45.529976400Z",
     "start_time": "2024-01-06T15:13:45.327826600Z"
    }
   },
   "id": "9c461baf89a66ef8"
  },
  {
   "cell_type": "markdown",
   "source": [],
   "metadata": {
    "collapsed": false
   },
   "id": "cee62f1c8597563a"
  },
  {
   "cell_type": "markdown",
   "source": [
    "## Ejercicio 2\n",
    "\n",
    "Objetivo: Obtener datos de sensores meteorológicos y realizar un análisis básico.\n",
    "\n",
    "Utiliza el endpoint específico para obtener datos de temperatura, humedad, o viento.\n",
    "Almacena los datos en un DataFrame de Pandas.\n",
    "Calcula medidas estadísticas básicas (media, mediana, máximo, mínimo).\n"
   ],
   "metadata": {
    "collapsed": false
   },
   "id": "9b291e67106a76a7"
  },
  {
   "cell_type": "code",
   "execution_count": 90,
   "outputs": [],
   "source": [],
   "metadata": {
    "collapsed": false,
    "ExecuteTime": {
     "end_time": "2024-01-06T15:13:45.678532100Z",
     "start_time": "2024-01-06T15:13:45.495854800Z"
    }
   },
   "id": "ee35c68686508f23"
  },
  {
   "cell_type": "code",
   "execution_count": 90,
   "outputs": [],
   "source": [],
   "metadata": {
    "collapsed": false,
    "ExecuteTime": {
     "end_time": "2024-01-06T15:13:45.797797400Z",
     "start_time": "2024-01-06T15:13:45.675265700Z"
    }
   },
   "id": "33f7ad0cac93beae"
  },
  {
   "cell_type": "code",
   "execution_count": 90,
   "outputs": [],
   "source": [],
   "metadata": {
    "collapsed": false,
    "ExecuteTime": {
     "end_time": "2024-01-06T15:13:45.950649300Z",
     "start_time": "2024-01-06T15:13:45.780854Z"
    }
   },
   "id": "f8ae498077da55b4"
  },
  {
   "cell_type": "code",
   "execution_count": 90,
   "outputs": [],
   "source": [],
   "metadata": {
    "collapsed": false,
    "ExecuteTime": {
     "end_time": "2024-01-06T15:13:46.142864600Z",
     "start_time": "2024-01-06T15:13:45.949482800Z"
    }
   },
   "id": "9974fd1f433b17a4"
  },
  {
   "cell_type": "code",
   "execution_count": 90,
   "outputs": [],
   "source": [],
   "metadata": {
    "collapsed": false,
    "ExecuteTime": {
     "end_time": "2024-01-06T15:13:46.283047900Z",
     "start_time": "2024-01-06T15:13:46.134747600Z"
    }
   },
   "id": "217a60248a1d5d38"
  },
  {
   "cell_type": "code",
   "execution_count": 90,
   "outputs": [],
   "source": [],
   "metadata": {
    "collapsed": false,
    "ExecuteTime": {
     "end_time": "2024-01-06T15:13:46.438541600Z",
     "start_time": "2024-01-06T15:13:46.265906800Z"
    }
   },
   "id": "a8e05842db644511"
  },
  {
   "cell_type": "code",
   "execution_count": 90,
   "outputs": [],
   "source": [],
   "metadata": {
    "collapsed": false,
    "ExecuteTime": {
     "end_time": "2024-01-06T15:13:46.585503900Z",
     "start_time": "2024-01-06T15:13:46.429385500Z"
    }
   },
   "id": "3b5d223606abe2ed"
  },
  {
   "cell_type": "code",
   "execution_count": 90,
   "outputs": [],
   "source": [],
   "metadata": {
    "collapsed": false,
    "ExecuteTime": {
     "end_time": "2024-01-06T15:13:46.758498500Z",
     "start_time": "2024-01-06T15:13:46.591656600Z"
    }
   },
   "id": "a60826a9313ff6d8"
  },
  {
   "cell_type": "code",
   "execution_count": 90,
   "outputs": [],
   "source": [],
   "metadata": {
    "collapsed": false,
    "ExecuteTime": {
     "end_time": "2024-01-06T15:13:46.961593300Z",
     "start_time": "2024-01-06T15:13:46.742769200Z"
    }
   },
   "id": "c52b762ecd2da686"
  },
  {
   "cell_type": "markdown",
   "source": [
    "## Ejercicio 3\n",
    "\n",
    "Obtén datos de tráfico de un sensor específico.\n",
    "Almacena los datos en un DataFrame y convierte las marcas de tiempo al formato correcto.\n",
    "Grafica la cantidad de vehículos detectados por hora a lo largo del día"
   ],
   "metadata": {
    "collapsed": false
   },
   "id": "4dd8a795d17d1fca"
  },
  {
   "cell_type": "code",
   "execution_count": 90,
   "outputs": [],
   "source": [],
   "metadata": {
    "collapsed": false,
    "ExecuteTime": {
     "end_time": "2024-01-06T15:13:47.144447200Z",
     "start_time": "2024-01-06T15:13:46.935395500Z"
    }
   },
   "id": "634429e12cd3abf3"
  },
  {
   "cell_type": "code",
   "execution_count": 90,
   "outputs": [],
   "source": [],
   "metadata": {
    "collapsed": false,
    "ExecuteTime": {
     "end_time": "2024-01-06T15:13:47.265681900Z",
     "start_time": "2024-01-06T15:13:47.118746100Z"
    }
   },
   "id": "a5a3667b5602397e"
  },
  {
   "cell_type": "code",
   "execution_count": 90,
   "outputs": [],
   "source": [],
   "metadata": {
    "collapsed": false,
    "ExecuteTime": {
     "end_time": "2024-01-06T15:13:47.411684800Z",
     "start_time": "2024-01-06T15:13:47.250585400Z"
    }
   },
   "id": "4cea0e37601b7bb2"
  },
  {
   "cell_type": "code",
   "execution_count": 90,
   "outputs": [],
   "source": [],
   "metadata": {
    "collapsed": false,
    "ExecuteTime": {
     "end_time": "2024-01-06T15:13:47.529603800Z",
     "start_time": "2024-01-06T15:13:47.401526200Z"
    }
   },
   "id": "fc359be7bd495987"
  },
  {
   "cell_type": "code",
   "execution_count": 90,
   "outputs": [],
   "source": [],
   "metadata": {
    "collapsed": false,
    "ExecuteTime": {
     "end_time": "2024-01-06T15:13:47.693070400Z",
     "start_time": "2024-01-06T15:13:47.539055100Z"
    }
   },
   "id": "987de93b2e2358e7"
  },
  {
   "cell_type": "code",
   "execution_count": 90,
   "outputs": [],
   "source": [],
   "metadata": {
    "collapsed": false,
    "ExecuteTime": {
     "end_time": "2024-01-06T15:13:47.842035400Z",
     "start_time": "2024-01-06T15:13:47.685993100Z"
    }
   },
   "id": "6a1ad3727bea5002"
  },
  {
   "cell_type": "code",
   "execution_count": 90,
   "outputs": [],
   "source": [],
   "metadata": {
    "collapsed": false,
    "ExecuteTime": {
     "end_time": "2024-01-06T15:13:47.966425300Z",
     "start_time": "2024-01-06T15:13:47.821984400Z"
    }
   },
   "id": "6821ead9cf38b4cd"
  },
  {
   "cell_type": "code",
   "execution_count": 90,
   "outputs": [],
   "source": [],
   "metadata": {
    "collapsed": false,
    "ExecuteTime": {
     "end_time": "2024-01-06T15:13:48.128451800Z",
     "start_time": "2024-01-06T15:13:47.958163600Z"
    }
   },
   "id": "1d40f2776064c68"
  },
  {
   "cell_type": "code",
   "execution_count": 90,
   "outputs": [],
   "source": [],
   "metadata": {
    "collapsed": false,
    "ExecuteTime": {
     "end_time": "2024-01-06T15:13:48.250808700Z",
     "start_time": "2024-01-06T15:13:48.126391600Z"
    }
   },
   "id": "7c2b846fd8366789"
  },
  {
   "cell_type": "code",
   "execution_count": 90,
   "outputs": [],
   "source": [],
   "metadata": {
    "collapsed": false,
    "ExecuteTime": {
     "end_time": "2024-01-06T15:13:48.493902Z",
     "start_time": "2024-01-06T15:13:48.257561200Z"
    }
   },
   "id": "b5643f7d33944e1"
  },
  {
   "cell_type": "code",
   "execution_count": 90,
   "outputs": [],
   "source": [],
   "metadata": {
    "collapsed": false,
    "ExecuteTime": {
     "end_time": "2024-01-06T15:13:48.621972Z",
     "start_time": "2024-01-06T15:13:48.484697400Z"
    }
   },
   "id": "b6cdc0e0477ad018"
  },
  {
   "cell_type": "code",
   "execution_count": 90,
   "outputs": [],
   "source": [],
   "metadata": {
    "collapsed": false,
    "ExecuteTime": {
     "end_time": "2024-01-06T15:13:48.730470700Z",
     "start_time": "2024-01-06T15:13:48.626588300Z"
    }
   },
   "id": "d0e82d414f5cc3d6"
  },
  {
   "cell_type": "markdown",
   "source": [
    "## Ejercicio 4\n",
    "\n",
    "Utiliza una biblioteca de Python para visualización de mapas como Folium.\n",
    "Representa la ubicación de los sensores en un mapa y colorea o dimensiona los marcadores según la intensidad de un factor específico (por ejemplo, la contaminación).\n",
    "Crea un mapa interactivo que permita a los usuarios explorar los diferentes datos"
   ],
   "metadata": {
    "collapsed": false
   },
   "id": "35a7be4b09db473f"
  },
  {
   "cell_type": "code",
   "execution_count": 90,
   "outputs": [],
   "source": [],
   "metadata": {
    "collapsed": false,
    "ExecuteTime": {
     "end_time": "2024-01-06T15:13:48.867525900Z",
     "start_time": "2024-01-06T15:13:48.717329200Z"
    }
   },
   "id": "bf82ea4412e506db"
  },
  {
   "cell_type": "code",
   "execution_count": 90,
   "outputs": [],
   "source": [],
   "metadata": {
    "collapsed": false,
    "ExecuteTime": {
     "end_time": "2024-01-06T15:13:49.109360800Z",
     "start_time": "2024-01-06T15:13:48.856411500Z"
    }
   },
   "id": "2ae7615fff73300f"
  },
  {
   "cell_type": "code",
   "execution_count": 90,
   "outputs": [],
   "source": [],
   "metadata": {
    "collapsed": false,
    "ExecuteTime": {
     "end_time": "2024-01-06T15:13:49.322652700Z",
     "start_time": "2024-01-06T15:13:49.057951900Z"
    }
   },
   "id": "b3abf8fd9cf7eb4"
  },
  {
   "cell_type": "code",
   "execution_count": 90,
   "outputs": [],
   "source": [],
   "metadata": {
    "collapsed": false,
    "ExecuteTime": {
     "end_time": "2024-01-06T15:13:49.446998600Z",
     "start_time": "2024-01-06T15:13:49.329563400Z"
    }
   },
   "id": "f4bc5fb0e3e53f62"
  },
  {
   "cell_type": "code",
   "execution_count": 90,
   "outputs": [],
   "source": [],
   "metadata": {
    "collapsed": false,
    "ExecuteTime": {
     "end_time": "2024-01-06T15:13:49.610259900Z",
     "start_time": "2024-01-06T15:13:49.440762800Z"
    }
   },
   "id": "dac446cdf901457a"
  },
  {
   "cell_type": "code",
   "execution_count": 90,
   "outputs": [],
   "source": [],
   "metadata": {
    "collapsed": false,
    "ExecuteTime": {
     "end_time": "2024-01-06T15:13:49.748074300Z",
     "start_time": "2024-01-06T15:13:49.590407700Z"
    }
   },
   "id": "99c07a60247f7c85"
  }
 ],
 "metadata": {
  "kernelspec": {
   "display_name": "Python 3",
   "language": "python",
   "name": "python3"
  },
  "language_info": {
   "codemirror_mode": {
    "name": "ipython",
    "version": 2
   },
   "file_extension": ".py",
   "mimetype": "text/x-python",
   "name": "python",
   "nbconvert_exporter": "python",
   "pygments_lexer": "ipython2",
   "version": "2.7.6"
  }
 },
 "nbformat": 4,
 "nbformat_minor": 5
}
